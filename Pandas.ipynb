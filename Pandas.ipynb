{
 "cells": [
  {
   "cell_type": "markdown",
   "id": "68b6184d",
   "metadata": {},
   "source": [
    "# This code covers various concepts such as creating a DataFrame, accessing DataFrame elements (columns and rows), filtering DataFrame based on conditions, basic statistics of a DataFrame, sorting DataFrame, data manipulation in a DataFrame (adding and removing columns), grouping and aggregation, handling missing values, and plotting in Pandas."
   ]
  },
  {
   "cell_type": "code",
   "execution_count": null,
   "id": "8ef4b7d4",
   "metadata": {},
   "outputs": [],
   "source": [
    "import pandas as pd"
   ]
  },
  {
   "cell_type": "markdown",
   "id": "92dfce93",
   "metadata": {},
   "source": [
    "# Creating a DataFrame"
   ]
  },
  {
   "cell_type": "code",
   "execution_count": null,
   "id": "f537e5b6",
   "metadata": {},
   "outputs": [],
   "source": [
    "# Create a DataFrame from a dictionary\n",
    "data = {'Name': ['John', 'Jane', 'Mike', 'Emily'],\n",
    "        'Age': [25, 30, 28, 32],\n",
    "        'City': ['New York', 'London', 'Paris', 'Sydney']}\n",
    "df = pd.DataFrame(data)\n",
    "print(\"DataFrame:\")\n",
    "print(df)"
   ]
  },
  {
   "cell_type": "markdown",
   "id": "99d4d834",
   "metadata": {},
   "source": [
    "# Accessing DataFrame elements"
   ]
  },
  {
   "cell_type": "code",
   "execution_count": null,
   "id": "b86cf3f7",
   "metadata": {},
   "outputs": [],
   "source": [
    "# Access a specific column\n",
    "print(\"\\nColumn 'Name':\")\n",
    "print(df['Name'])"
   ]
  },
  {
   "cell_type": "code",
   "execution_count": null,
   "id": "24172935",
   "metadata": {},
   "outputs": [],
   "source": [
    "# Access a specific row\n",
    "print(\"\\nRow 1:\")\n",
    "print(df.loc[1])"
   ]
  },
  {
   "cell_type": "markdown",
   "id": "972c83a6",
   "metadata": {},
   "source": [
    "# Filtering DataFrame"
   ]
  },
  {
   "cell_type": "code",
   "execution_count": null,
   "id": "6ff7f71f",
   "metadata": {},
   "outputs": [],
   "source": [
    "# Filter rows based on a condition\n",
    "filtered_df = df[df['Age'] > 25]\n",
    "print(\"\\nFiltered DataFrame:\")\n",
    "print(filtered_df)"
   ]
  },
  {
   "cell_type": "markdown",
   "id": "ee466cd2",
   "metadata": {},
   "source": [
    "# Basic statistics of DataFrame\n"
   ]
  },
  {
   "cell_type": "code",
   "execution_count": null,
   "id": "7b11d426",
   "metadata": {},
   "outputs": [],
   "source": [
    "# Calculate descriptive statistics\n",
    "print(\"\\nBasic Statistics:\")\n",
    "print(df.describe())"
   ]
  },
  {
   "cell_type": "markdown",
   "id": "7471a775",
   "metadata": {},
   "source": [
    "# Sorting DataFrame"
   ]
  },
  {
   "cell_type": "code",
   "execution_count": null,
   "id": "c6a6f1cd",
   "metadata": {},
   "outputs": [],
   "source": [
    "# Sort DataFrame by a column\n",
    "sorted_df = df.sort_values('Name')\n",
    "print(\"\\nSorted DataFrame:\")\n",
    "print(sorted_df)"
   ]
  },
  {
   "cell_type": "markdown",
   "id": "8de74a2e",
   "metadata": {},
   "source": [
    "# Data manipulation in DataFrame"
   ]
  },
  {
   "cell_type": "code",
   "execution_count": null,
   "id": "1f1322dc",
   "metadata": {},
   "outputs": [],
   "source": [
    "# Add a new column\n",
    "df['Gender'] = ['Male', 'Female', 'Male', 'Female']\n",
    "print(\"\\nDataFrame with new column:\")\n",
    "print(df)"
   ]
  },
  {
   "cell_type": "code",
   "execution_count": null,
   "id": "44e41e45",
   "metadata": {},
   "outputs": [],
   "source": [
    "# Remove a column\n",
    "df = df.drop('City', axis=1)\n",
    "print(\"\\nDataFrame with column removed:\")\n",
    "print(df)"
   ]
  },
  {
   "cell_type": "markdown",
   "id": "d8de19a8",
   "metadata": {},
   "source": [
    "# Grouping and aggregation\n"
   ]
  },
  {
   "cell_type": "code",
   "execution_count": null,
   "id": "c34bae70",
   "metadata": {},
   "outputs": [],
   "source": [
    "# Group DataFrame by a column and calculate mean\n",
    "grouped_df = df.groupby('Gender').mean()\n",
    "print(\"\\nGrouped DataFrame:\")\n",
    "print(grouped_df)"
   ]
  },
  {
   "cell_type": "markdown",
   "id": "bd30d657",
   "metadata": {},
   "source": [
    "# Handling missing values"
   ]
  },
  {
   "cell_type": "code",
   "execution_count": null,
   "id": "c55a107b",
   "metadata": {},
   "outputs": [],
   "source": [
    "# Create a DataFrame with missing values\n",
    "data = {'Name': ['John', 'Jane', 'Mike', 'Emily'],\n",
    "        'Age': [25, None, 28, 32],\n",
    "        'City': ['New York', 'London', None, 'Sydney']}\n",
    "df = pd.DataFrame(data)\n",
    "print(\"\\nDataFrame with missing values:\")\n",
    "print(df)"
   ]
  },
  {
   "cell_type": "code",
   "execution_count": null,
   "id": "aac8ff63",
   "metadata": {},
   "outputs": [],
   "source": [
    "# Check for missing values\n",
    "print(\"\\nMissing Values:\")\n",
    "print(df.isnull().sum())"
   ]
  },
  {
   "cell_type": "code",
   "execution_count": null,
   "id": "de7e3534",
   "metadata": {},
   "outputs": [],
   "source": [
    "# Fill missing values with a specific value\n",
    "df_filled = df.fillna(0)\n",
    "print(\"\\nDataFrame with filled missing values:\")\n",
    "print(df_filled)"
   ]
  },
  {
   "cell_type": "markdown",
   "id": "a886c71c",
   "metadata": {},
   "source": [
    "# Plotting in Pandas"
   ]
  },
  {
   "cell_type": "code",
   "execution_count": null,
   "id": "ef8595a5",
   "metadata": {},
   "outputs": [],
   "source": [
    "import matplotlib.pyplot as plt\n",
    "# Create a line plot\n",
    "df.plot(x='Name', y='Age', kind='line', title='Age Distribution')\n",
    "plt.show()"
   ]
  },
  {
   "cell_type": "code",
   "execution_count": null,
   "id": "ef499121",
   "metadata": {},
   "outputs": [],
   "source": [
    "# Create a bar plot\n",
    "df.plot(x='Name', y='Age', kind='bar', title='Age Distribution')\n",
    "plt.show()"
   ]
  }
 ],
 "metadata": {
  "kernelspec": {
   "display_name": "Python 3 (ipykernel)",
   "language": "python",
   "name": "python3"
  },
  "language_info": {
   "codemirror_mode": {
    "name": "ipython",
    "version": 3
   },
   "file_extension": ".py",
   "mimetype": "text/x-python",
   "name": "python",
   "nbconvert_exporter": "python",
   "pygments_lexer": "ipython3",
   "version": "3.9.13"
  }
 },
 "nbformat": 4,
 "nbformat_minor": 5
}

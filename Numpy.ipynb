{
 "cells": [
  {
   "cell_type": "markdown",
   "id": "4d18c304",
   "metadata": {},
   "source": [
    "## This code covers various concepts creating NumPy arrays, accessing array elements, performing array operations (arithmetic and statistical), reshaping arrays, slicing arrays, conditional indexing, array aggregation (concatenation and stacking), and random number generation."
   ]
  },
  {
   "cell_type": "code",
   "execution_count": null,
   "id": "5df911e8",
   "metadata": {},
   "outputs": [],
   "source": [
    "import numpy as np\n"
   ]
  },
  {
   "cell_type": "markdown",
   "id": "16208846",
   "metadata": {},
   "source": [
    "# Creating NumPy arrays"
   ]
  },
  {
   "cell_type": "code",
   "execution_count": null,
   "id": "15c85357",
   "metadata": {},
   "outputs": [],
   "source": [
    "# Create a 1-dimensional array\n",
    "arr_1d = np.array([1, 2, 3, 4, 5])\n",
    "print(\"1D Array:\")\n",
    "print(arr_1d)"
   ]
  },
  {
   "cell_type": "code",
   "execution_count": null,
   "id": "c92b3ed5",
   "metadata": {},
   "outputs": [],
   "source": [
    "# Create a 2-dimensional array\n",
    "arr_2d = np.array([[1, 2, 3], [4, 5, 6]])\n",
    "print(\"\\n2D Array:\")\n",
    "print(arr_2d)"
   ]
  },
  {
   "cell_type": "code",
   "execution_count": null,
   "id": "0640e9b6",
   "metadata": {},
   "outputs": [],
   "source": [
    "# Accessing array elements\n",
    "\n",
    "# Access a specific element\n",
    "print(\"\\nElement at index 2:\", arr_1d[2])"
   ]
  },
  {
   "cell_type": "code",
   "execution_count": null,
   "id": "11f7b378",
   "metadata": {},
   "outputs": [],
   "source": [
    "# Access a specific row and column element\n",
    "print(\"Element at row 1, column 2:\", arr_2d[0, 2])"
   ]
  },
  {
   "cell_type": "markdown",
   "id": "7924acc9",
   "metadata": {},
   "source": [
    "# Array operations"
   ]
  },
  {
   "cell_type": "code",
   "execution_count": null,
   "id": "d7b24a62",
   "metadata": {},
   "outputs": [],
   "source": [
    "# Perform element-wise arithmetic operations\n",
    "arr = np.array([1, 2, 3, 4, 5])\n",
    "arr_squared = arr ** 2\n",
    "arr_sum = arr + arr_squared\n",
    "print(\"\\nSquared array:\", arr_squared)\n",
    "print(\"Sum of array and its square:\", arr_sum)"
   ]
  },
  {
   "cell_type": "code",
   "execution_count": null,
   "id": "31c7f63a",
   "metadata": {},
   "outputs": [],
   "source": [
    "# Perform statistical operations\n",
    "arr = np.array([1, 2, 3, 4, 5])\n",
    "arr_mean = np.mean(arr)\n",
    "arr_std_dev = np.std(arr)\n",
    "arr_max = np.max(arr)\n",
    "print(\"\\nMean:\", arr_mean)\n",
    "print(\"Standard Deviation:\", arr_std_dev)\n",
    "print(\"Maximum value:\", arr_max)"
   ]
  },
  {
   "cell_type": "markdown",
   "id": "bdef23c7",
   "metadata": {},
   "source": [
    "# Array reshaping"
   ]
  },
  {
   "cell_type": "code",
   "execution_count": null,
   "id": "68e93b0f",
   "metadata": {},
   "outputs": [],
   "source": [
    "# Reshape a 1-dimensional array to a 2-dimensional array\n",
    "arr = np.array([1, 2, 3, 4, 5, 6])\n",
    "reshaped_arr = arr.reshape((2, 3))\n",
    "print(\"\\nReshaped Array:\")\n",
    "print(reshaped_arr)"
   ]
  },
  {
   "cell_type": "markdown",
   "id": "23695e24",
   "metadata": {},
   "source": [
    "# Array slicing"
   ]
  },
  {
   "cell_type": "code",
   "execution_count": null,
   "id": "4dd80435",
   "metadata": {},
   "outputs": [],
   "source": [
    "# Slice a 1-dimensional array\n",
    "arr = np.array([1, 2, 3, 4, 5])\n",
    "sliced_arr = arr[1:4]\n",
    "print(\"\\nSliced Array:\")\n",
    "print(sliced_arr)\n"
   ]
  },
  {
   "cell_type": "code",
   "execution_count": null,
   "id": "dfa09448",
   "metadata": {},
   "outputs": [],
   "source": [
    "# Conditional indexing\n",
    "arr = np.array([1, 2, 3, 4, 5])\n",
    "filtered_arr = arr[arr > 2]\n",
    "print(\"\\nFiltered Array:\")\n",
    "print(filtered_arr)"
   ]
  },
  {
   "cell_type": "markdown",
   "id": "afb73549",
   "metadata": {},
   "source": [
    "# Array aggregation"
   ]
  },
  {
   "cell_type": "code",
   "execution_count": null,
   "id": "0b9d56d3",
   "metadata": {},
   "outputs": [],
   "source": [
    "# Concatenate multiple arrays\n",
    "arr1 = np.array([1, 2, 3])\n",
    "arr2 = np.array([4, 5, 6])\n",
    "concatenated_arr = np.concatenate((arr1, arr2))\n",
    "print(\"\\nConcatenated Array:\")\n",
    "print(concatenated_arr)"
   ]
  },
  {
   "cell_type": "code",
   "execution_count": null,
   "id": "e5a8c2cb",
   "metadata": {},
   "outputs": [],
   "source": [
    "# Stack arrays vertically or horizontally\n",
    "arr1 = np.array([1, 2, 3])\n",
    "arr2 = np.array([4, 5, 6])\n",
    "vertical_stack = np.vstack((arr1, arr2))\n",
    "horizontal_stack = np.hstack((arr1, arr2))\n",
    "print(\"\\nVertical Stack:\")\n",
    "print(vertical_stack)\n",
    "print(\"\\nHorizontal Stack:\")\n",
    "print(horizontal_stack)"
   ]
  },
  {
   "cell_type": "markdown",
   "id": "5074e0da",
   "metadata": {},
   "source": [
    "# Random number generation"
   ]
  },
  {
   "cell_type": "code",
   "execution_count": null,
   "id": "f3969e5d",
   "metadata": {},
   "outputs": [],
   "source": [
    "# Generate random numbers\n",
    "random_arr = np.random.rand(5)\n",
    "print(\"\\nRandom Array:\")\n",
    "print(random_arr)"
   ]
  }
 ],
 "metadata": {
  "kernelspec": {
   "display_name": "Python 3 (ipykernel)",
   "language": "python",
   "name": "python3"
  },
  "language_info": {
   "codemirror_mode": {
    "name": "ipython",
    "version": 3
   },
   "file_extension": ".py",
   "mimetype": "text/x-python",
   "name": "python",
   "nbconvert_exporter": "python",
   "pygments_lexer": "ipython3",
   "version": "3.9.13"
  }
 },
 "nbformat": 4,
 "nbformat_minor": 5
}
